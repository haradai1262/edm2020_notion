{
 "cells": [
  {
   "cell_type": "code",
   "execution_count": 1,
   "metadata": {},
   "outputs": [],
   "source": [
    "import pandas as pd\n",
    "from tqdm import tqdm\n",
    "from notion.client import NotionClient\n",
    "from notion.block import TextBlock, PageBlock\n",
    "\n",
    "from pathlib import Path\n",
    "import requests\n",
    "from bs4 import BeautifulSoup\n",
    "\n",
    "from io import StringIO\n",
    "\n",
    "from pdfminer.converter import TextConverter\n",
    "from pdfminer.layout import LAParams\n",
    "from pdfminer.pdfdocument import PDFDocument\n",
    "from pdfminer.pdfinterp import PDFResourceManager, PDFPageInterpreter\n",
    "from pdfminer.pdfpage import PDFPage\n",
    "from pdfminer.pdfparser import PDFParser\n",
    "\n",
    "def get_abstract_from_pdf(pdf_path):\n",
    "    \n",
    "    output_string = StringIO()\n",
    "    with open(pdf_path, 'rb') as in_file:\n",
    "        parser = PDFParser(in_file)\n",
    "        doc = PDFDocument(parser)\n",
    "        rsrcmgr = PDFResourceManager()\n",
    "        device = TextConverter(rsrcmgr, output_string, laparams=LAParams())\n",
    "        interpreter = PDFPageInterpreter(rsrcmgr, device)\n",
    "        for page in PDFPage.create_pages(doc):\n",
    "            interpreter.process_page(page)\n",
    "    \n",
    "    abst = ''\n",
    "    flag = 0\n",
    "    for row in output_string.getvalue().split('\\n'):\n",
    "        if row == 'ABSTRACT':\n",
    "            flag = 1\n",
    "            continue\n",
    "        \n",
    "        if flag == 1:\n",
    "            abst += row\n",
    "        \n",
    "        if row in ['Keywords', '']:\n",
    "            flag = 0\n",
    "    \n",
    "    return abst"
   ]
  },
  {
   "cell_type": "code",
   "execution_count": 2,
   "metadata": {},
   "outputs": [],
   "source": [
    "paper_page_template = [\n",
    "    'Tags',\n",
    "    '',\n",
    "    '著者',\n",
    "    '',\n",
    "    'PDF URL',\n",
    "    '',\n",
    "    '概要',\n",
    "    '',\n",
    "    '新規性・差分',\n",
    "    '',\n",
    "    '結果',\n",
    "    '',\n",
    "    'コメント',\n",
    "    '',\n",
    "    '関連リンク',\n",
    "    '',\n",
    "]"
   ]
  },
  {
   "cell_type": "code",
   "execution_count": 3,
   "metadata": {},
   "outputs": [],
   "source": [
    "import sys\n",
    "sys.path.append('../secrets')\n",
    "import token_info\n",
    "\n",
    "token_v2 = token_info.token_v2\n",
    "page_url = 'https://www.notion.so/myaun/EDM2020-proceedings-81c7b43901384889ab66943fb747f5b8'\n",
    "\n",
    "client = NotionClient(token_v2=token_v2)\n",
    "page = client.get_block(page_url)"
   ]
  },
  {
   "cell_type": "code",
   "execution_count": 4,
   "metadata": {},
   "outputs": [
    {
     "name": "stderr",
     "output_type": "stream",
     "text": [
      "100%|██████████| 117/117 [24:08<00:00, 12.38s/it]\n"
     ]
    }
   ],
   "source": [
    "# retrieve paper list\n",
    "\n",
    "target_url = 'https://educationaldatamining.org/edm2020/proceedings/'\n",
    "r = requests.get(target_url)\n",
    "soup = BeautifulSoup(r.text, 'lxml')\n",
    "tables = soup.find_all('table')\n",
    "paper_type_list = [ i.text for i in soup.find_all('h3')[1:6]]\n",
    "\n",
    "rows = []\n",
    "for i, tab in enumerate(tables):\n",
    "    papers = tab.find_all('td')\n",
    "    paper_type = paper_type_list[i]\n",
    "    for p in papers:\n",
    "        title = p.a.text\n",
    "        pdf_url = p.a.get('href')\n",
    "        authors = p.text.split('.')[0]\n",
    "        \n",
    "        rows.append([title, pdf_url, authors, paper_type])\n",
    "        \n",
    "# make notion pages\n",
    "\n",
    "df_papers = pd.DataFrame(rows, columns=['title', 'pdf_url', 'authors', 'paper_type'])\n",
    "\n",
    "fixed_tag = '#EDM2020'\n",
    "for i, (title, pdf_url, authors, paper_type) in tqdm(enumerate(df_papers.values), total=len(df_papers)):\n",
    "    \n",
    "    filename = Path(f'../paper_pdf/{i}.pdf')\n",
    "    response = requests.get(pdf_url)\n",
    "    filename.write_bytes(response.content)\n",
    "    \n",
    "    abst = get_abstract_from_pdf(pdf_path=f'../paper_pdf/{i}.pdf')\n",
    "    \n",
    "    paper_page = page.children.add_new(PageBlock, title=f'[paper] {title}')\n",
    "    for t in paper_page_template:\n",
    "        if t == 'Tags':\n",
    "            _ = paper_page.children.add_new(TextBlock, title=f'{t}: {fixed_tag} #{paper_type}')\n",
    "        elif t == '著者':\n",
    "            _ = paper_page.children.add_new(TextBlock, title=f'{t}: {authors}')\n",
    "        elif t == 'PDF URL':\n",
    "            _ = paper_page.children.add_new(TextBlock, title=f'{t}: {pdf_url}')\n",
    "        elif t == '概要':\n",
    "            _ = paper_page.children.add_new(TextBlock, title=t)\n",
    "            _ = paper_page.children.add_new(TextBlock, title=abst)\n",
    "        else:\n",
    "            _ = paper_page.children.add_new(TextBlock, title=t)"
   ]
  },
  {
   "cell_type": "code",
   "execution_count": 120,
   "metadata": {},
   "outputs": [],
   "source": []
  },
  {
   "cell_type": "code",
   "execution_count": 123,
   "metadata": {},
   "outputs": [],
   "source": []
  },
  {
   "cell_type": "code",
   "execution_count": null,
   "metadata": {},
   "outputs": [],
   "source": []
  }
 ],
 "metadata": {
  "kernelspec": {
   "display_name": "Python 3",
   "language": "python",
   "name": "python3"
  },
  "language_info": {
   "codemirror_mode": {
    "name": "ipython",
    "version": 3
   },
   "file_extension": ".py",
   "mimetype": "text/x-python",
   "name": "python",
   "nbconvert_exporter": "python",
   "pygments_lexer": "ipython3",
   "version": "3.7.6"
  }
 },
 "nbformat": 4,
 "nbformat_minor": 4
}
